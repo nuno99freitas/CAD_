{
  "cells": [
    {
      "cell_type": "code",
      "execution_count": null,
      "metadata": {
        "id": "GhjvZfkpUpTR"
      },
      "outputs": [],
      "source": [
        "#Imports---------------------------------------------------------------\n",
        "import torch\n",
        "import torchvision\n",
        "import torch.nn as nn\n",
        "import torchvision.transforms as transforms\n",
        "from torchvision import models\n",
        "from PIL import Image\n",
        "#%matplotlib inline\n",
        "#%config InlineBackend.figure_format = 'retina'\n",
        "\n",
        "import glob\n",
        "import numpy as np\n",
        "from torch import optim\n",
        "import torch.nn.functional as F\n",
        "from torchvision import datasets, transforms, models\n",
        "#Main pipeline for multiclass classification\n",
        "#import libraries\n",
        "import numpy as np\n",
        "from time import time\n",
        "import torch\n",
        "from torch import nn, optim\n",
        "import torch.nn.functional as F\n",
        "from torch.utils.data import Dataset, DataLoader, Subset\n",
        "from tqdm import tqdm\n",
        "from sklearn.model_selection import KFold\n",
        "from torchvision import models, transforms\n",
        "import pickle\n",
        "import os\n",
        "import sys\n",
        "from PIL import Image\n"
      ]
    },
    {
      "cell_type": "code",
      "execution_count": null,
      "metadata": {
        "colab": {
          "base_uri": "https://localhost:8080/"
        },
        "id": "JIrhvRZGVHcn",
        "outputId": "7e171ac9-5875-4d42-c708-c5c7a7d4af20"
      },
      "outputs": [
        {
          "output_type": "stream",
          "name": "stdout",
          "text": [
            "Mounted at /content/drive\n"
          ]
        }
      ],
      "source": [
        "from google.colab import drive\n",
        "drive.mount('/content/drive')\n",
        "device = torch.device('cuda:0' if torch.cuda.is_available() else 'cpu')\n"
      ]
    },
    {
      "cell_type": "code",
      "execution_count": null,
      "metadata": {
        "id": "c37Bs16OVVPu"
      },
      "outputs": [],
      "source": [
        "K=5\n",
        "arc='vgg16'\n",
        "loss_func = nn.CrossEntropyLoss()\n",
        "lr=0.0001\n",
        "b_s=32\n",
        "ep=50-5\n",
        "PATH='/content/drive/My Drive/ML/model.pth'\n",
        "PATH2='/content/drive/My Drive/ML/files/last.pth'\n",
        "#APAGAR-------------------------------------\n",
        "#with open('/content/drive/My Drive/ML/Resultados/readme.txt', 'w') as f:\n",
        "    #f.write('')\n",
        "#with open('/content/drive/My Drive/ML/Resultados/readme.txt', 'a') as f:\n",
        "    #f.write('------------------------------------------------\\nParametros:\\n\\nEpochs'+str(ep)+'\\nArc:'+arc+'\\nLearning rate:'+str(lr)+'\\nBatch size:'+str(b_s))"
      ]
    },
    {
      "cell_type": "code",
      "execution_count": null,
      "metadata": {
        "id": "WMPu29mIZfeX"
      },
      "outputs": [],
      "source": [
        "#Standerdize the image----------------------------------------------------------------------\n",
        "\n",
        "transform = transforms.Compose([            #[1]\n",
        " #transforms.Resize(224),                    #[2]\n",
        " #transforms.CenterCrop(224),                #[3]\n",
        " transforms.ToTensor(),                     #[4]\n",
        " transforms.Normalize(                      #[5]\n",
        " mean=[0.485, 0.456, 0.406],                #[6]\n",
        " std=[0.229, 0.224, 0.225]                  #[7]\n",
        " )])"
      ]
    },
    {
      "cell_type": "code",
      "execution_count": null,
      "metadata": {
        "colab": {
          "base_uri": "https://localhost:8080/"
        },
        "id": "v4cyBTlYVPoR",
        "outputId": "b1aa288e-5156-4453-cef4-c5c8625d3687"
      },
      "outputs": [
        {
          "output_type": "stream",
          "name": "stdout",
          "text": [
            "[{'train': (array(['I422042_C1.jpg', 'I422042_C2.jpg', 'I720027_C1.jpg', ...,\n",
            "       'I147525_C2.jpg', 'I325700_C2.jpg', 'I553280_C2.jpg'], dtype='<U14'), array([2, 2, 2, ..., 0, 0, 0], dtype=uint8)), 'test': (array(['I673095_C1.jpg', 'I752115_C1.jpg', 'I507880_C2.jpg', ...,\n",
            "       'I553280_C1.jpg', 'I853803_C1.jpg', 'I853803_C2.jpg'], dtype='<U14'), array([2, 0, 0, ..., 0, 0, 0], dtype=uint8))}, {'train': (array(['I422042_C1.jpg', 'I422042_C2.jpg', 'I720027_C1.jpg', ...,\n",
            "       'I553280_C1.jpg', 'I853803_C1.jpg', 'I853803_C2.jpg'], dtype='<U14'), array([2, 2, 2, ..., 0, 0, 0], dtype=uint8)), 'test': (array(['I673095_C2.jpg', 'I892546_C1.jpg', 'I780921_C1.jpg', ...,\n",
            "       'I803109_C1.jpg', 'I147525_C1.jpg', 'I553280_C2.jpg'], dtype='<U14'), array([2, 2, 0, ..., 0, 0, 0], dtype=uint8))}, {'train': (array(['I422042_C2.jpg', 'I720027_C1.jpg', 'I673095_C1.jpg', ...,\n",
            "       'I553280_C2.jpg', 'I853803_C1.jpg', 'I853803_C2.jpg'], dtype='<U14'), array([2, 2, 2, ..., 0, 0, 0], dtype=uint8)), 'test': (array(['I422042_C1.jpg', 'I720027_C2.jpg', 'I892546_C2.jpg', ...,\n",
            "       'I337868_C2.jpg', 'I147525_C2.jpg', 'I325700_C2.jpg'], dtype='<U14'), array([2, 2, 2, ..., 1, 0, 0], dtype=uint8))}, {'train': (array(['I422042_C1.jpg', 'I720027_C2.jpg', 'I673095_C1.jpg', ...,\n",
            "       'I553280_C2.jpg', 'I853803_C1.jpg', 'I853803_C2.jpg'], dtype='<U14'), array([2, 2, 2, ..., 0, 0, 0], dtype=uint8)), 'test': (array(['I422042_C2.jpg', 'I720027_C1.jpg', 'I780921_C2.jpg', ...,\n",
            "       'I274329_C2.jpg', 'I711111_C2.jpg', 'I531686_C2.jpg'], dtype='<U14'), array([2, 2, 0, ..., 0, 0, 0], dtype=uint8))}]\n"
          ]
        }
      ],
      "source": [
        "infile = open('/content/drive/My Drive/ML/NCI_data.pickle','rb')\n",
        "data=pickle.load(infile)\n",
        "infile.close\n",
        "print(data)\n",
        "\n",
        "\n",
        "class MyDataset(Dataset):\n",
        "   def __init__(self, type, transform, path,fold):\n",
        "       self.X,self.Y=data[fold][type]\n",
        "       self.transform = transform\n",
        "       self.path = path\n",
        "       \n",
        "   def __getitem__(self, i):\n",
        "       #print('.',end='')\n",
        "       PATH=self.path+self.X[i]\n",
        "       while(True):\n",
        "         try:\n",
        "           X = Image.open(PATH)\n",
        "           break\n",
        "         except IOError:\n",
        "           print('erro'+self.X[i])\n",
        "       X = self.transform(X)\n",
        "       Y = self.Y[i]\n",
        "       return X, Y\n",
        "\n",
        "   def __len__(self):\n",
        "       return len(self.X)\n"
      ]
    },
    {
      "cell_type": "code",
      "execution_count": null,
      "metadata": {
        "id": "QKj_dsBtZZo-"
      },
      "outputs": [],
      "source": [
        "ds= MyDataset('train',transform,'/content/drive/My Drive/ML/train/Transform/',1)\n",
        "tr = DataLoader(ds, b_s, True)\n",
        "#v_ds= MyDataset('val',transform,'/content/drive/My Drive/ML/CVT_1/Transform',1)\n",
        "#val = DataLoader(v_ds, b_s, True)\n",
        "t_ds= MyDataset('test',transform,'/content/drive/My Drive/ML/train/Transform/',1)\n",
        "test = DataLoader(t_ds, b_s, True)"
      ]
    },
    {
      "cell_type": "code",
      "execution_count": null,
      "metadata": {
        "colab": {
          "base_uri": "https://localhost:8080/"
        },
        "id": "hV37Doojs7EX",
        "outputId": "52223e4e-7f75-4e70-df07-dba7901216a3"
      },
      "outputs": [
        {
          "name": "stdout",
          "output_type": "stream",
          "text": [
            "546\n",
            "182\n"
          ]
        }
      ],
      "source": [
        "print(len(tr))\n",
        "print(len(test))"
      ]
    },
    {
      "cell_type": "code",
      "execution_count": null,
      "metadata": {
        "id": "R7ZI2Ny7ZytO"
      },
      "outputs": [],
      "source": [
        "# Model\n",
        "class Base(nn.Module):\n",
        "    def __init__(self, pretrained_model, n_outputs):\n",
        "        super().__init__()\n",
        "        self.n_outputs = n_outputs\n",
        "        model = getattr(models, pretrained_model)(pretrained=True) #using transfer learning from a pretrained model - True\n",
        "        model = nn.Sequential(*tuple(model.children())[:-1])\n",
        "        last_dimension = torch.flatten(model(torch.randn(1, 3, 224, 224))).shape[0]\n",
        "        self.model = nn.Sequential(\n",
        "            model,\n",
        "            nn.Flatten(),\n",
        "            nn.Dropout(0.4),\n",
        "            nn.Linear(last_dimension, 512),\n",
        "            nn.Dropout(0.4),\n",
        "            nn.ReLU(),\n",
        "            nn.Linear(512, 256),\n",
        "            nn.ReLU(),\n",
        "            nn.Linear(256, K)\n",
        "        )\n",
        "\n",
        "    def forward(self, x):\n",
        "        return self.model(x)\n",
        "\n",
        "    def loss(self, Yhat, Y):\n",
        "        return loss_func(Yhat, Y)\n",
        "\n",
        "    def to_proba(self, Yhat):\n",
        "        return F.softmax(Yhat, 1)\n",
        "\n",
        "    def to_classes(self, Phat):\n",
        "        return Phat.argmax(1)\n"
      ]
    },
    {
      "cell_type": "code",
      "execution_count": null,
      "metadata": {
        "colab": {
          "base_uri": "https://localhost:8080/",
          "height": 66,
          "referenced_widgets": [
            "d94c1e2557c446e0bd74972cfe479592",
            "9519b7aedc0b45329bd9fc89c989056f",
            "f962317c96a34f2b9fe404a555b7a0ce",
            "57141e3f474f4efa935c24ed2d4fb406",
            "6d974d0f181d4d38aa9255ee8e68b917",
            "aff45341068b4928b1f82f15276573ad",
            "2cc9c030091147efbb2b874c039e45ef",
            "75f8bf47dfba48eca53feb1b46ab4a24",
            "9656b43cc9324ced86e477e5a903b116",
            "cbdc4e33f01e4ab8bac1b155ee140f15",
            "5250c43698364a53a8201a01a5eb2277"
          ]
        },
        "id": "N32q3PBIZ1Vs",
        "outputId": "6beac4ae-5225-409e-c407-c45abc9716a9"
      },
      "outputs": [
        {
          "output_type": "stream",
          "name": "stderr",
          "text": [
            "Downloading: \"https://download.pytorch.org/models/vgg16-397923af.pth\" to /root/.cache/torch/hub/checkpoints/vgg16-397923af.pth\n"
          ]
        },
        {
          "output_type": "display_data",
          "data": {
            "text/plain": [
              "  0%|          | 0.00/528M [00:00<?, ?B/s]"
            ],
            "application/vnd.jupyter.widget-view+json": {
              "version_major": 2,
              "version_minor": 0,
              "model_id": "d94c1e2557c446e0bd74972cfe479592"
            }
          },
          "metadata": {}
        }
      ],
      "source": [
        "#Give to the model the architecture and number of classes (K)\n",
        "model = Base(arc, K)\n",
        "#put the model on 'GPU' or 'CPU'\n",
        "model = model.to(device)\n",
        "#Define optimizer and scheduler \n",
        "optimizer = optim.Adam(model.parameters(),lr )\n",
        "\n",
        "scheduler = optim.lr_scheduler.ReduceLROnPlateau(optimizer, verbose=True)\n"
      ]
    },
    {
      "cell_type": "code",
      "execution_count": null,
      "metadata": {
        "colab": {
          "base_uri": "https://localhost:8080/"
        },
        "id": "XO0_ldbbZ4NH",
        "outputId": "6070fe52-a588-4302-cc96-9bec6720f10c"
      },
      "outputs": [
        {
          "output_type": "stream",
          "name": "stdout",
          "text": [
            "\n",
            "\n",
            "Iteração: 0\n",
            "loss: 1010.0\n",
            "acc: 0.0\n",
            "erroI813899_C2.jpg\n",
            "erroI813899_C2.jpg\n",
            "erroI813899_C2.jpg\n",
            "erroI813899_C2.jpg\n",
            "......................................................................................................................................................................................\n",
            "\n",
            "loss: 200.50254368782043\n",
            "acc: tensor(60.5533, device='cuda:0')\n",
            "Finished Validation\n",
            "saved\n",
            "..................................................................................................................................................................................................................................................................................................................................................................................................................................................................................................................................................................\n",
            "\n",
            "Iteração: 1\n",
            "loss: 283.28978572040796\n",
            "acc: tensor(79.7303, device='cuda:0')\n",
            "......................................................................................................................................................................................\n",
            "\n",
            "loss: 212.68508756160736\n",
            "acc: tensor(59.2384, device='cuda:0')\n",
            "Finished Validation\n",
            "......................................................................................................................................................................................................................................................................................................................................................................................."
          ]
        }
      ],
      "source": [
        "running_loss=1010.0\n",
        "train_acc=0.0\n",
        "final_t_a=0.0\n",
        "l_train=547*32\n",
        "l_test=183*32\n",
        "avg_acc=0.0\n",
        "best_loss=1000.0\n",
        "best_acc=0.0\n",
        "torch.cuda.empty_cache()\n",
        "best_acc_t=0\n",
        "best_loss_t=1999\n",
        "loss=1000\n",
        "\n",
        "##Train the dataset\n",
        "for epoch in range(ep):  # loop over the dataset multiple times\n",
        "        print('\\n')\n",
        "        print('Iteração:',epoch)\n",
        "        print('loss:',running_loss)\n",
        "        print('acc:',avg_acc)\n",
        "        running_loss2=0.0\n",
        "        train_acc=0.0\n",
        "        final_t_a=0.0\n",
        "        avg_acc2=0.0\n",
        "        torch.save({\n",
        "            'epoch': epoch,\n",
        "            'model_state_dict': model.state_dict(),\n",
        "            'optimizer_state_dict': optimizer.state_dict(),\n",
        "            'loss': loss\n",
        "            \n",
        "            }, PATH2)\n",
        "        with open('/content/drive/My Drive/ML/Resultados/atual.txt', 'w') as f:\n",
        "                f.write('Iteração'+str(epoch))\n",
        "           \n",
        "        \n",
        "        ##Test the dataset\n",
        "        for inputs,labels in test:\n",
        "            # get the inputs; data is a list of [inputs, labels]\n",
        "            inputs, labels = inputs.to(device),labels.to(device)\n",
        "            labels = labels.type(torch.LongTensor)\n",
        "            labels=labels.to(device)\n",
        "\n",
        "            # forward + backward + optimize\n",
        "            outputs =model(inputs)\n",
        "            \n",
        "            \n",
        "            #print(outputs)\n",
        "            loss2 = loss_func(outputs, labels)\n",
        "            _, predicted = torch.max(outputs, 1)\n",
        "            real=labels\n",
        "            correct = (predicted == real).float().sum()\n",
        "            avg_acc2 +=correct*100/l_test\n",
        "            print('.',end='')\n",
        "           \n",
        "            running_loss2 += loss2.item()\n",
        "           \n",
        "        print('\\n')\n",
        "        print('loss:',running_loss2)\n",
        "        print('acc:',avg_acc2)\n",
        "        print('Finished Validation')\n",
        "\n",
        "        if avg_acc2>=best_acc and running_loss2<=best_loss :\n",
        "             best_acc=avg_acc2\n",
        "             best_loss=running_loss2\n",
        "             torch.save(model.state_dict(), PATH)\n",
        "             print('saved')\n",
        "     \n",
        "\n",
        "        running_loss = 0.0\n",
        "        avg_acc = 0        \n",
        "        for inputs,labels in tr:\n",
        "            # get the inputs; data is a list of [inputs, labels]\n",
        "            inputs, labels = inputs.to(device),labels.to(device)\n",
        "            labels = labels.type(torch.LongTensor)\n",
        "            labels=labels.to(device)\n",
        "            # zero the parameter gradients\n",
        "            optimizer.zero_grad()\n",
        "\n",
        "            # forward + backward + optimize\n",
        "            outputs =model(inputs)\n",
        "            #print(outputs)\n",
        "            loss = loss_func(outputs, labels)\n",
        "            loss.backward()\n",
        "            optimizer.step()\n",
        "            \n",
        "            #print(outputs)\n",
        "            #print(labels)\n",
        "            _, predicted = torch.max(outputs, 1)\n",
        "            real=labels\n",
        "            correct = (predicted == real).float().sum()\n",
        "            avg_acc +=correct*100/l_train\n",
        "            print('.',end='')\n",
        "           \n",
        "            running_loss += loss.item()\n",
        "            \n",
        "\n",
        "           \n",
        "\n",
        "            if avg_acc>=best_acc_t and running_loss<=best_loss_t :\n",
        "             best_acc_t=avg_acc\n",
        "             best_loss_t=running_loss\n",
        "             \n",
        "            \n",
        "           \n",
        "\n",
        "print('Finished Training')\n",
        "\n",
        "\n",
        "with open('/content/drive/My Drive/ML/Resultados/readme.txt', 'a') as f:\n",
        "    f.write('------------------------------------------------\\nResultados:\\n\\nLoss treino:'+str(best_loss_t)+'\\nAcc treino:'+str(best_acc_t)+'\\nLoss Test:'+str(best_loss)+'\\nAcc test:'+str(best_acc))\n"
      ]
    },
    {
      "cell_type": "code",
      "execution_count": null,
      "metadata": {
        "colab": {
          "base_uri": "https://localhost:8080/"
        },
        "id": "YQ8zy10qZVnr",
        "outputId": "97017c7a-6a27-488f-e679-b99e822f75f9"
      },
      "outputs": [
        {
          "output_type": "execute_result",
          "data": {
            "text/plain": [
              "Base(\n",
              "  (model): Sequential(\n",
              "    (0): Sequential(\n",
              "      (0): Sequential(\n",
              "        (0): Conv2d(3, 64, kernel_size=(3, 3), stride=(1, 1), padding=(1, 1))\n",
              "        (1): ReLU(inplace=True)\n",
              "        (2): Conv2d(64, 64, kernel_size=(3, 3), stride=(1, 1), padding=(1, 1))\n",
              "        (3): ReLU(inplace=True)\n",
              "        (4): MaxPool2d(kernel_size=2, stride=2, padding=0, dilation=1, ceil_mode=False)\n",
              "        (5): Conv2d(64, 128, kernel_size=(3, 3), stride=(1, 1), padding=(1, 1))\n",
              "        (6): ReLU(inplace=True)\n",
              "        (7): Conv2d(128, 128, kernel_size=(3, 3), stride=(1, 1), padding=(1, 1))\n",
              "        (8): ReLU(inplace=True)\n",
              "        (9): MaxPool2d(kernel_size=2, stride=2, padding=0, dilation=1, ceil_mode=False)\n",
              "        (10): Conv2d(128, 256, kernel_size=(3, 3), stride=(1, 1), padding=(1, 1))\n",
              "        (11): ReLU(inplace=True)\n",
              "        (12): Conv2d(256, 256, kernel_size=(3, 3), stride=(1, 1), padding=(1, 1))\n",
              "        (13): ReLU(inplace=True)\n",
              "        (14): Conv2d(256, 256, kernel_size=(3, 3), stride=(1, 1), padding=(1, 1))\n",
              "        (15): ReLU(inplace=True)\n",
              "        (16): MaxPool2d(kernel_size=2, stride=2, padding=0, dilation=1, ceil_mode=False)\n",
              "        (17): Conv2d(256, 512, kernel_size=(3, 3), stride=(1, 1), padding=(1, 1))\n",
              "        (18): ReLU(inplace=True)\n",
              "        (19): Conv2d(512, 512, kernel_size=(3, 3), stride=(1, 1), padding=(1, 1))\n",
              "        (20): ReLU(inplace=True)\n",
              "        (21): Conv2d(512, 512, kernel_size=(3, 3), stride=(1, 1), padding=(1, 1))\n",
              "        (22): ReLU(inplace=True)\n",
              "        (23): MaxPool2d(kernel_size=2, stride=2, padding=0, dilation=1, ceil_mode=False)\n",
              "        (24): Conv2d(512, 512, kernel_size=(3, 3), stride=(1, 1), padding=(1, 1))\n",
              "        (25): ReLU(inplace=True)\n",
              "        (26): Conv2d(512, 512, kernel_size=(3, 3), stride=(1, 1), padding=(1, 1))\n",
              "        (27): ReLU(inplace=True)\n",
              "        (28): Conv2d(512, 512, kernel_size=(3, 3), stride=(1, 1), padding=(1, 1))\n",
              "        (29): ReLU(inplace=True)\n",
              "        (30): MaxPool2d(kernel_size=2, stride=2, padding=0, dilation=1, ceil_mode=False)\n",
              "      )\n",
              "      (1): AdaptiveAvgPool2d(output_size=(7, 7))\n",
              "    )\n",
              "    (1): Flatten(start_dim=1, end_dim=-1)\n",
              "    (2): Dropout(p=0.4, inplace=False)\n",
              "    (3): Linear(in_features=25088, out_features=512, bias=True)\n",
              "    (4): Dropout(p=0.4, inplace=False)\n",
              "    (5): ReLU()\n",
              "    (6): Linear(in_features=512, out_features=256, bias=True)\n",
              "    (7): ReLU()\n",
              "    (8): Linear(in_features=256, out_features=5, bias=True)\n",
              "  )\n",
              ")"
            ]
          },
          "metadata": {},
          "execution_count": 9
        }
      ],
      "source": [
        "#Load Model\n",
        "#model = Base(, **kwargs)\n",
        "#optimizer = TheOptimizerClass(*args, **kwargs)\n",
        "\n",
        "checkpoint = torch.load(PATH2,map_location=torch.device('cpu'))\n",
        "model.load_state_dict(checkpoint['model_state_dict'])\n",
        "optimizer.load_state_dict(checkpoint['optimizer_state_dict'])\n",
        "epoch = checkpoint['epoch']\n",
        "loss = checkpoint['loss']\n",
        "\n",
        "model.eval()\n",
        "# - or -\n",
        "model.train()"
      ]
    },
    {
      "cell_type": "code",
      "execution_count": null,
      "metadata": {
        "id": "4uZHXRFJHuT5"
      },
      "outputs": [],
      "source": [
        "\n",
        "with open('/content/drive/My Drive/ML/Resultados/readme.txt', 'a') as f:\n",
        "    f.write('------------------------------------------------\\nResultados:\\n\\nLoss treino:'+str(best_loss_t)+'\\nAcc treino:'+str(best_acc_t)+'\\nLoss Test:'+str(best_loss)+'\\nAcc test:'+str(best_acc))\n"
      ]
    },
    {
      "cell_type": "code",
      "execution_count": null,
      "metadata": {
        "colab": {
          "base_uri": "https://localhost:8080/",
          "height": 339
        },
        "id": "pl7CpYDA6KrJ",
        "outputId": "d4485632-0d45-4db4-9325-aaafad04e28b"
      },
      "outputs": [
        {
          "ename": "FileNotFoundError",
          "evalue": "ignored",
          "output_type": "error",
          "traceback": [
            "\u001b[0;31m---------------------------------------------------------------------------\u001b[0m",
            "\u001b[0;31mFileNotFoundError\u001b[0m                         Traceback (most recent call last)",
            "\u001b[0;32m<ipython-input-5-54f2a490cf0c>\u001b[0m in \u001b[0;36m<module>\u001b[0;34m()\u001b[0m\n\u001b[1;32m      2\u001b[0m \u001b[0mPATH\u001b[0m\u001b[0;34m=\u001b[0m\u001b[0;34m'/content/drive/My Drive/ML/ALTS_1/'\u001b[0m\u001b[0;34m\u001b[0m\u001b[0;34m\u001b[0m\u001b[0m\n\u001b[1;32m      3\u001b[0m \u001b[0mp\u001b[0m\u001b[0;34m=\u001b[0m\u001b[0mPATH\u001b[0m\u001b[0;34m+\u001b[0m\u001b[0mname\u001b[0m\u001b[0;34m\u001b[0m\u001b[0;34m\u001b[0m\u001b[0m\n\u001b[0;32m----> 4\u001b[0;31m \u001b[0mimg\u001b[0m\u001b[0;34m=\u001b[0m\u001b[0mImage\u001b[0m\u001b[0;34m.\u001b[0m\u001b[0mopen\u001b[0m\u001b[0;34m(\u001b[0m\u001b[0mp\u001b[0m\u001b[0;34m)\u001b[0m\u001b[0;34m\u001b[0m\u001b[0;34m\u001b[0m\u001b[0m\n\u001b[0m",
            "\u001b[0;32m/usr/local/lib/python3.7/dist-packages/PIL/Image.py\u001b[0m in \u001b[0;36mopen\u001b[0;34m(fp, mode)\u001b[0m\n\u001b[1;32m   2841\u001b[0m \u001b[0;34m\u001b[0m\u001b[0m\n\u001b[1;32m   2842\u001b[0m     \u001b[0;32mif\u001b[0m \u001b[0mfilename\u001b[0m\u001b[0;34m:\u001b[0m\u001b[0;34m\u001b[0m\u001b[0;34m\u001b[0m\u001b[0m\n\u001b[0;32m-> 2843\u001b[0;31m         \u001b[0mfp\u001b[0m \u001b[0;34m=\u001b[0m \u001b[0mbuiltins\u001b[0m\u001b[0;34m.\u001b[0m\u001b[0mopen\u001b[0m\u001b[0;34m(\u001b[0m\u001b[0mfilename\u001b[0m\u001b[0;34m,\u001b[0m \u001b[0;34m\"rb\"\u001b[0m\u001b[0;34m)\u001b[0m\u001b[0;34m\u001b[0m\u001b[0;34m\u001b[0m\u001b[0m\n\u001b[0m\u001b[1;32m   2844\u001b[0m         \u001b[0mexclusive_fp\u001b[0m \u001b[0;34m=\u001b[0m \u001b[0;32mTrue\u001b[0m\u001b[0;34m\u001b[0m\u001b[0;34m\u001b[0m\u001b[0m\n\u001b[1;32m   2845\u001b[0m \u001b[0;34m\u001b[0m\u001b[0m\n",
            "\u001b[0;31mFileNotFoundError\u001b[0m: [Errno 2] No such file or directory: '/content/drive/My Drive/ML/ALTS_1/I625976_C1'"
          ]
        }
      ],
      "source": [
        "name='I625976_C1'\n",
        "PATH='/content/drive/My Drive/ML/ALTS_1/'\n",
        "p=PATH+name\n",
        "img=Image.open(p)"
      ]
    },
    {
      "cell_type": "code",
      "execution_count": null,
      "metadata": {
        "id": "MQJOuN6YaBQ1"
      },
      "outputs": [],
      "source": [
        "model = Base(arc, K)\n",
        "#put the model on 'GPU' or 'CPU'\n",
        "model = model.to(device)\n",
        "model.load_state_dict(torch.load(PATH))\n",
        "model.eval()\n",
        "\n",
        "#evaluate model performance\n",
        "from sklearn.metrics import classification_report, confusion_matrix\n",
        "import matplotlib.pyplot as plt\n",
        "import seaborn as sns\n",
        "\n",
        "y_pred=predict_proba(val)\n",
        "Phat = []\n",
        "\n",
        "for inputs,labels in val:\n",
        "            y_true=labels\n",
        "            Phat += list(y_true.cpu().numpy())\n",
        "\n",
        "\n",
        "print(Phat)\n",
        "print(y_pred)\n",
        "print('Classification Report:\\n', classification_report(Phat, y_pred))\n",
        "\n",
        "print('Confusion Matrix:')\n",
        "cm = sns.heatmap(confusion_matrix(Phat, y_pred), annot=True, cmap='Blues')\n",
        "plt.show()"
      ]
    }
  ],
  "metadata": {
    "accelerator": "GPU",
    "colab": {
      "name": "Base.ipynb",
      "provenance": []
    },
    "kernelspec": {
      "display_name": "Python 3",
      "name": "python3"
    },
    "language_info": {
      "name": "python"
    },
    "widgets": {
      "application/vnd.jupyter.widget-state+json": {
        "d94c1e2557c446e0bd74972cfe479592": {
          "model_module": "@jupyter-widgets/controls",
          "model_name": "HBoxModel",
          "model_module_version": "1.5.0",
          "state": {
            "_dom_classes": [],
            "_model_module": "@jupyter-widgets/controls",
            "_model_module_version": "1.5.0",
            "_model_name": "HBoxModel",
            "_view_count": null,
            "_view_module": "@jupyter-widgets/controls",
            "_view_module_version": "1.5.0",
            "_view_name": "HBoxView",
            "box_style": "",
            "children": [
              "IPY_MODEL_9519b7aedc0b45329bd9fc89c989056f",
              "IPY_MODEL_f962317c96a34f2b9fe404a555b7a0ce",
              "IPY_MODEL_57141e3f474f4efa935c24ed2d4fb406"
            ],
            "layout": "IPY_MODEL_6d974d0f181d4d38aa9255ee8e68b917"
          }
        },
        "9519b7aedc0b45329bd9fc89c989056f": {
          "model_module": "@jupyter-widgets/controls",
          "model_name": "HTMLModel",
          "model_module_version": "1.5.0",
          "state": {
            "_dom_classes": [],
            "_model_module": "@jupyter-widgets/controls",
            "_model_module_version": "1.5.0",
            "_model_name": "HTMLModel",
            "_view_count": null,
            "_view_module": "@jupyter-widgets/controls",
            "_view_module_version": "1.5.0",
            "_view_name": "HTMLView",
            "description": "",
            "description_tooltip": null,
            "layout": "IPY_MODEL_aff45341068b4928b1f82f15276573ad",
            "placeholder": "​",
            "style": "IPY_MODEL_2cc9c030091147efbb2b874c039e45ef",
            "value": "100%"
          }
        },
        "f962317c96a34f2b9fe404a555b7a0ce": {
          "model_module": "@jupyter-widgets/controls",
          "model_name": "FloatProgressModel",
          "model_module_version": "1.5.0",
          "state": {
            "_dom_classes": [],
            "_model_module": "@jupyter-widgets/controls",
            "_model_module_version": "1.5.0",
            "_model_name": "FloatProgressModel",
            "_view_count": null,
            "_view_module": "@jupyter-widgets/controls",
            "_view_module_version": "1.5.0",
            "_view_name": "ProgressView",
            "bar_style": "success",
            "description": "",
            "description_tooltip": null,
            "layout": "IPY_MODEL_75f8bf47dfba48eca53feb1b46ab4a24",
            "max": 553433881,
            "min": 0,
            "orientation": "horizontal",
            "style": "IPY_MODEL_9656b43cc9324ced86e477e5a903b116",
            "value": 553433881
          }
        },
        "57141e3f474f4efa935c24ed2d4fb406": {
          "model_module": "@jupyter-widgets/controls",
          "model_name": "HTMLModel",
          "model_module_version": "1.5.0",
          "state": {
            "_dom_classes": [],
            "_model_module": "@jupyter-widgets/controls",
            "_model_module_version": "1.5.0",
            "_model_name": "HTMLModel",
            "_view_count": null,
            "_view_module": "@jupyter-widgets/controls",
            "_view_module_version": "1.5.0",
            "_view_name": "HTMLView",
            "description": "",
            "description_tooltip": null,
            "layout": "IPY_MODEL_cbdc4e33f01e4ab8bac1b155ee140f15",
            "placeholder": "​",
            "style": "IPY_MODEL_5250c43698364a53a8201a01a5eb2277",
            "value": " 528M/528M [00:06&lt;00:00, 154MB/s]"
          }
        },
        "6d974d0f181d4d38aa9255ee8e68b917": {
          "model_module": "@jupyter-widgets/base",
          "model_name": "LayoutModel",
          "model_module_version": "1.2.0",
          "state": {
            "_model_module": "@jupyter-widgets/base",
            "_model_module_version": "1.2.0",
            "_model_name": "LayoutModel",
            "_view_count": null,
            "_view_module": "@jupyter-widgets/base",
            "_view_module_version": "1.2.0",
            "_view_name": "LayoutView",
            "align_content": null,
            "align_items": null,
            "align_self": null,
            "border": null,
            "bottom": null,
            "display": null,
            "flex": null,
            "flex_flow": null,
            "grid_area": null,
            "grid_auto_columns": null,
            "grid_auto_flow": null,
            "grid_auto_rows": null,
            "grid_column": null,
            "grid_gap": null,
            "grid_row": null,
            "grid_template_areas": null,
            "grid_template_columns": null,
            "grid_template_rows": null,
            "height": null,
            "justify_content": null,
            "justify_items": null,
            "left": null,
            "margin": null,
            "max_height": null,
            "max_width": null,
            "min_height": null,
            "min_width": null,
            "object_fit": null,
            "object_position": null,
            "order": null,
            "overflow": null,
            "overflow_x": null,
            "overflow_y": null,
            "padding": null,
            "right": null,
            "top": null,
            "visibility": null,
            "width": null
          }
        },
        "aff45341068b4928b1f82f15276573ad": {
          "model_module": "@jupyter-widgets/base",
          "model_name": "LayoutModel",
          "model_module_version": "1.2.0",
          "state": {
            "_model_module": "@jupyter-widgets/base",
            "_model_module_version": "1.2.0",
            "_model_name": "LayoutModel",
            "_view_count": null,
            "_view_module": "@jupyter-widgets/base",
            "_view_module_version": "1.2.0",
            "_view_name": "LayoutView",
            "align_content": null,
            "align_items": null,
            "align_self": null,
            "border": null,
            "bottom": null,
            "display": null,
            "flex": null,
            "flex_flow": null,
            "grid_area": null,
            "grid_auto_columns": null,
            "grid_auto_flow": null,
            "grid_auto_rows": null,
            "grid_column": null,
            "grid_gap": null,
            "grid_row": null,
            "grid_template_areas": null,
            "grid_template_columns": null,
            "grid_template_rows": null,
            "height": null,
            "justify_content": null,
            "justify_items": null,
            "left": null,
            "margin": null,
            "max_height": null,
            "max_width": null,
            "min_height": null,
            "min_width": null,
            "object_fit": null,
            "object_position": null,
            "order": null,
            "overflow": null,
            "overflow_x": null,
            "overflow_y": null,
            "padding": null,
            "right": null,
            "top": null,
            "visibility": null,
            "width": null
          }
        },
        "2cc9c030091147efbb2b874c039e45ef": {
          "model_module": "@jupyter-widgets/controls",
          "model_name": "DescriptionStyleModel",
          "model_module_version": "1.5.0",
          "state": {
            "_model_module": "@jupyter-widgets/controls",
            "_model_module_version": "1.5.0",
            "_model_name": "DescriptionStyleModel",
            "_view_count": null,
            "_view_module": "@jupyter-widgets/base",
            "_view_module_version": "1.2.0",
            "_view_name": "StyleView",
            "description_width": ""
          }
        },
        "75f8bf47dfba48eca53feb1b46ab4a24": {
          "model_module": "@jupyter-widgets/base",
          "model_name": "LayoutModel",
          "model_module_version": "1.2.0",
          "state": {
            "_model_module": "@jupyter-widgets/base",
            "_model_module_version": "1.2.0",
            "_model_name": "LayoutModel",
            "_view_count": null,
            "_view_module": "@jupyter-widgets/base",
            "_view_module_version": "1.2.0",
            "_view_name": "LayoutView",
            "align_content": null,
            "align_items": null,
            "align_self": null,
            "border": null,
            "bottom": null,
            "display": null,
            "flex": null,
            "flex_flow": null,
            "grid_area": null,
            "grid_auto_columns": null,
            "grid_auto_flow": null,
            "grid_auto_rows": null,
            "grid_column": null,
            "grid_gap": null,
            "grid_row": null,
            "grid_template_areas": null,
            "grid_template_columns": null,
            "grid_template_rows": null,
            "height": null,
            "justify_content": null,
            "justify_items": null,
            "left": null,
            "margin": null,
            "max_height": null,
            "max_width": null,
            "min_height": null,
            "min_width": null,
            "object_fit": null,
            "object_position": null,
            "order": null,
            "overflow": null,
            "overflow_x": null,
            "overflow_y": null,
            "padding": null,
            "right": null,
            "top": null,
            "visibility": null,
            "width": null
          }
        },
        "9656b43cc9324ced86e477e5a903b116": {
          "model_module": "@jupyter-widgets/controls",
          "model_name": "ProgressStyleModel",
          "model_module_version": "1.5.0",
          "state": {
            "_model_module": "@jupyter-widgets/controls",
            "_model_module_version": "1.5.0",
            "_model_name": "ProgressStyleModel",
            "_view_count": null,
            "_view_module": "@jupyter-widgets/base",
            "_view_module_version": "1.2.0",
            "_view_name": "StyleView",
            "bar_color": null,
            "description_width": ""
          }
        },
        "cbdc4e33f01e4ab8bac1b155ee140f15": {
          "model_module": "@jupyter-widgets/base",
          "model_name": "LayoutModel",
          "model_module_version": "1.2.0",
          "state": {
            "_model_module": "@jupyter-widgets/base",
            "_model_module_version": "1.2.0",
            "_model_name": "LayoutModel",
            "_view_count": null,
            "_view_module": "@jupyter-widgets/base",
            "_view_module_version": "1.2.0",
            "_view_name": "LayoutView",
            "align_content": null,
            "align_items": null,
            "align_self": null,
            "border": null,
            "bottom": null,
            "display": null,
            "flex": null,
            "flex_flow": null,
            "grid_area": null,
            "grid_auto_columns": null,
            "grid_auto_flow": null,
            "grid_auto_rows": null,
            "grid_column": null,
            "grid_gap": null,
            "grid_row": null,
            "grid_template_areas": null,
            "grid_template_columns": null,
            "grid_template_rows": null,
            "height": null,
            "justify_content": null,
            "justify_items": null,
            "left": null,
            "margin": null,
            "max_height": null,
            "max_width": null,
            "min_height": null,
            "min_width": null,
            "object_fit": null,
            "object_position": null,
            "order": null,
            "overflow": null,
            "overflow_x": null,
            "overflow_y": null,
            "padding": null,
            "right": null,
            "top": null,
            "visibility": null,
            "width": null
          }
        },
        "5250c43698364a53a8201a01a5eb2277": {
          "model_module": "@jupyter-widgets/controls",
          "model_name": "DescriptionStyleModel",
          "model_module_version": "1.5.0",
          "state": {
            "_model_module": "@jupyter-widgets/controls",
            "_model_module_version": "1.5.0",
            "_model_name": "DescriptionStyleModel",
            "_view_count": null,
            "_view_module": "@jupyter-widgets/base",
            "_view_module_version": "1.2.0",
            "_view_name": "StyleView",
            "description_width": ""
          }
        }
      }
    }
  },
  "nbformat": 4,
  "nbformat_minor": 0
}
